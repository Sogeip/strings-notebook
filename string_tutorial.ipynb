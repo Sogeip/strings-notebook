{
 "cells": [
  {
   "cell_type": "code",
   "execution_count": 2,
   "metadata": {
    "collapsed": false
   },
   "outputs": [
    {
     "name": "stdout",
     "output_type": "stream",
     "text": [
      "True\n",
      "False\n"
     ]
    }
   ],
   "source": [
    "# How to determine if a string (sequence of letters/numbers/symbols) contains a sub-string:\n",
    "\n",
    "# Evaluates to true:\n",
    "coolasf = 'isaiah' in 'that guy isaiah is cool as fuck'\n",
    "\n",
    "# Evaluates to false:\n",
    "kju = 'isaiah' in \"that guy Kim Jong Un isn't very nice\"\n",
    "\n",
    "print(coolasf)\n",
    "print(kju)"
   ]
  },
  {
   "cell_type": "code",
   "execution_count": 4,
   "metadata": {
    "collapsed": false
   },
   "outputs": [
    {
     "name": "stdout",
     "output_type": "stream",
     "text": [
      "10\n",
      "marijuana\n"
     ]
    }
   ],
   "source": [
    "# How to determine where a string matches a certain pattern\n",
    "s = 'gee whiz, marijuana is a fun drug'\n",
    "i = s.index('marijuana')\n",
    "print(i)\n",
    "\n",
    "# We can look at certain parts of strings by using these indexes. This is called\n",
    "# \"slicing\". The syntax is some_string[start_index : end_index]. For example\n",
    "\n",
    "start = i\n",
    "end = i + len('marijuana')\n",
    "print(s[start : end])"
   ]
  },
  {
   "cell_type": "code",
   "execution_count": 5,
   "metadata": {
    "collapsed": false
   },
   "outputs": [
    {
     "name": "stdout",
     "output_type": "stream",
     "text": [
      "0\n",
      "11\n",
      "18\n"
     ]
    }
   ],
   "source": [
    "# If the same pattern is in a string more than once, we can use \n",
    "# a loop to find all occurences of it. This is called a 'while' loop\n",
    "# it works pretty much the way it reads. while whatever is in parenthesis\n",
    "# is true, it does whatever is inside the indented part underneith\n",
    "\n",
    "s = 'penis is a word penis is an object and penis is a body part'\n",
    "while ('penis' in s):\n",
    "    print(s.index('penis'))\n",
    "    \n",
    "    # Note, when there isn't a number after the colon in string \n",
    "    # slices, it just goes to the end of the string by default\n",
    "    s = s[s.index('penis') + len('penis'):] "
   ]
  },
  {
   "cell_type": "code",
   "execution_count": 6,
   "metadata": {
    "collapsed": false
   },
   "outputs": [
    {
     "name": "stdout",
     "output_type": "stream",
     "text": [
      "w is a consonant\n",
      "o is a vowel\n",
      "a is a vowel\n",
      "h is a consonant\n",
      "  is a consonant\n",
      "d is a consonant\n",
      "u is a vowel\n",
      "d is a consonant\n",
      "e is a vowel\n",
      "! is a consonant\n",
      "\n",
      "Found the word string at index 5\n"
     ]
    }
   ],
   "source": [
    "# Here's another kind of loop: the for-loop. The syntax is a little tricky\n",
    "# but basically, it creates a variable from an iterable type (such as a string)\n",
    "# that you can use inside the loop. Here's an example:\n",
    "\n",
    "for letter in 'woah dude!':\n",
    "    if letter in 'aeiou':\n",
    "        print(letter + ' is a vowel')\n",
    "    else:\n",
    "        print(letter + ' is a consonant')\n",
    "     \n",
    "\n",
    "print()\n",
    "# Or if you'd rather work with the position of letters, so you can look at ranges \n",
    "# you can use the length of the string as the iterator \n",
    "\n",
    "s = 'this string is a test'\n",
    "\n",
    "for index in range(len(s)):\n",
    "    if s[index:index+6] == 'string': \n",
    "        print('Found the word string at index ' + str(index))\n",
    "        \n",
    "        # If you find what you're looking for, you can stop looping\n",
    "        # with the break keyword\n",
    "        break "
   ]
  },
  {
   "cell_type": "code",
   "execution_count": 0,
   "metadata": {
    "collapsed": false
   },
   "outputs": [
     "name": "stdout",
     "output_type": "stream",
     "text": [
     'Here is some text I saved in a file. If you see this, it means the file read worked!\n' ]
   ],
   "source": [
    "# Last one for now: if you have something saved in a file that you want\n",
    "# to load into python, you can use the following to save it as a variable\n",
    "# so you can manipulate it with code\n",
    "\n",
    "fname = 'test_file.txt'\n",
    "\n",
    "# The 'r' means we're opening it to read, but you can do 'w' to write to\n",
    "# files as well. \n",
    "with open(fname, 'r') as f: \n",
    "    s = f.read()\n",
    "    \n",
    "print(s)"
   ]
  }
 ],
 "metadata": {
  "kernelspec": {
   "display_name": "Python 3 (system-wide)",
   "language": "python",
   "metadata": {
    "cocalc": {
     "description": "Python 3 programming language",
     "priority": 100,
     "url": "https://www.python.org/"
    }
   },
   "name": "python3"
  },
  "language_info": {
   "codemirror_mode": {
    "name": "ipython",
    "version": 3
   },
   "file_extension": ".py",
   "mimetype": "text/x-python",
   "name": "python",
   "nbconvert_exporter": "python",
   "pygments_lexer": "ipython3",
   "version": "3.6.9"
  }
 },
 "nbformat": 4,
 "nbformat_minor": 4
}
